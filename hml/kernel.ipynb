{
 "cells": [
  {
   "cell_type": "code",
   "execution_count": 1,
   "metadata": {},
   "outputs": [],
   "source": [
    "%load_ext autoreload\n",
    "%autoreload 2"
   ]
  },
  {
   "cell_type": "code",
   "execution_count": 2,
   "metadata": {},
   "outputs": [],
   "source": [
    "import sys\n",
    "sys.path.insert(0, '..') #appends project root to path in order to import project packages since `noteboks_dev` is not on the root\n",
    "\n"
   ]
  },
  {
   "cell_type": "markdown",
   "metadata": {},
   "source": [
    "# Code"
   ]
  },
  {
   "cell_type": "code",
   "execution_count": 3,
   "metadata": {},
   "outputs": [],
   "source": [
    "#export\n",
    "from functools import reduce\n",
    "\n",
    "from typing import Union\n",
    "\n",
    "from scipy import sparse\n",
    "import numpy as np\n",
    "\n",
    "from sklearn.utils.validation import check_is_fitted\n",
    "from sklearn.base import BaseEstimator, TransformerMixin\n",
    "from sklearn.preprocessing import normalize, OneHotEncoder, OrdinalEncoder, KBinsDiscretizer\n",
    "from sklearn.neural_network import MLPClassifier, MLPRegressor\n",
    "from sklearn.pipeline import make_pipeline\n",
    "\n",
    "from joblib import effective_n_jobs, Parallel, delayed\n",
    "\n",
    "from sknetwork.clustering import KMeans, Louvain, PropagationClustering\n",
    "\n",
    "from utils import hstack, sparse_dot_product\n",
    "from preprocessing import RobustOneHotEncoder"
   ]
  },
  {
   "cell_type": "code",
   "execution_count": 4,
   "metadata": {},
   "outputs": [],
   "source": [
    "from sklearn.ensemble import RandomTreesEmbedding, RandomForestClassifier, RandomForestRegressor, ExtraTreesClassifier, ExtraTreesRegressor"
   ]
  },
  {
   "cell_type": "code",
   "execution_count": 5,
   "metadata": {},
   "outputs": [],
   "source": [
    "#session of variables to testing sessions\n",
    "n_features = 7\n",
    "cardinality_per_feature = 1000\n",
    "n_classes = 5\n",
    "n_reg_dims = 2\n",
    "\n",
    "\n",
    "X = np.random.randint(0,cardinality_per_feature,(1000,n_features))\n",
    "\n",
    "y_class = np.random.randint(0,n_classes, 1000)\n",
    "y_reg = np.random.randn(1000,n_reg_dims)"
   ]
  },
  {
   "cell_type": "code",
   "execution_count": 6,
   "metadata": {},
   "outputs": [],
   "source": [
    "#export\n",
    "from sklearn.datasets import make_regression\n",
    "\n",
    "def sigmoid(x):\n",
    "    return 1/(1+np.exp(x))\n",
    "\n",
    "def make_bimodal_assymetric_regression(\n",
    "    n_samples=100000,\n",
    "    bimodal_factor_weight = 2,\n",
    "    n_features=15,\n",
    "    n_informative=6,\n",
    "    n_targets=2,\n",
    "    bias=500,\n",
    "    effective_rank=None,\n",
    "    tail_strength=10,\n",
    "    noise=150,\n",
    "    shuffle=True,\n",
    "    coef=False,\n",
    "    random_state=None\n",
    "):\n",
    "    \n",
    "    X,y = make_regression(\n",
    "        n_samples=n_samples,\n",
    "        n_features=n_features,\n",
    "        n_informative=n_informative,\n",
    "        n_targets=n_targets,\n",
    "        bias=bias,\n",
    "        effective_rank=effective_rank,\n",
    "        tail_strength=tail_strength,\n",
    "        noise=noise,\n",
    "        shuffle=shuffle,\n",
    "        coef=coef,\n",
    "        random_state=random_state\n",
    "    )\n",
    "\n",
    "\n",
    "    #make one of X[1] feature mode weightening    \n",
    "    bimodal_factors = (sigmoid(bimodal_factor_weight*X[:,-1]) > np.random.random(size = X.shape[0])).astype(int)\n",
    "    bimodal_factors[bimodal_factors == 0] = -1\n",
    "    bimodal_factors = bimodal_factors.reshape(-1,1)\n",
    "\n",
    "    y = bimodal_factors*y\n",
    "    \n",
    "    return X,y"
   ]
  },
  {
   "cell_type": "code",
   "execution_count": 7,
   "metadata": {},
   "outputs": [],
   "source": [
    "import matplotlib.pyplot as plt\n",
    "from sklearn.datasets import make_classification, make_regression, make_blobs\n",
    "import seaborn as sns\n",
    "\n",
    "%matplotlib inline\n",
    "\n",
    "X, y = make_classification(\n",
    "    n_samples = 100_000,\n",
    "    n_features = 3,\n",
    "    n_informative = 3,\n",
    "    n_redundant = 0,\n",
    "    #bias = 10,\n",
    "    #noise = 10,\n",
    "    n_classes = 3,\n",
    "    n_clusters_per_class = 2,\n",
    "    hypercube = True,\n",
    ")\n",
    "\n",
    "\n",
    "blobs, labels = make_blobs(n_samples = 10_000,cluster_std = 3, n_features = 4)\n",
    "#sns.scatterplot(*blobs.T, hue = labels)\n",
    "#plt.show()"
   ]
  },
  {
   "cell_type": "code",
   "execution_count": 8,
   "metadata": {},
   "outputs": [],
   "source": [
    "import matplotlib.pyplot as plt\n",
    "import plotly.express as px\n",
    "import pandas as pd\n",
    "\n",
    "import plotly.io as pio\n",
    "pio.renderers.default='iframe'\n",
    "\n",
    "df = pd.DataFrame(X)\n",
    "df.columns = [f'X{i}' for i in range(X.shape[-1])]\n",
    "df['y'] = y.astype(str)\n",
    "\n",
    "fig = px.scatter_3d(df, x='X0', y='X1', z='X2',\n",
    "              color='y')\n",
    "#fig.show()\n",
    "\n",
    "#plt.cls()\n",
    "#sns.scatterplot(*X.T[:2], hue = y)\n",
    "#plt.show()"
   ]
  },
  {
   "cell_type": "markdown",
   "metadata": {},
   "source": [
    "# ForestNeighbors"
   ]
  },
  {
   "cell_type": "code",
   "execution_count": 9,
   "metadata": {},
   "outputs": [],
   "source": [
    "from ensemble import ForestNeighbors"
   ]
  },
  {
   "cell_type": "code",
   "execution_count": 11,
   "metadata": {},
   "outputs": [
    {
     "name": "stderr",
     "output_type": "stream",
     "text": [
      "/home/alan/Desktop/git_projects/heterogeneous-metric-learning/hml/ensemble.py:207: VisibleDeprecationWarning:\n",
      "\n",
      "Creating an ndarray from ragged nested sequences (which is a list-or-tuple of lists-or-tuples-or ndarrays with different lengths or shapes) is deprecated. If you meant to do this, you must specify 'dtype=object' when creating the ndarray.\n",
      "\n"
     ]
    }
   ],
   "source": [
    "clsf = RandomForestClassifier(100,max_depth = None, min_samples_leaf = 5, n_jobs = -1)\n",
    "fn = ForestNeighbors(clsf, prefit_forest_estimator = False, n_jobs = 1).fit(X,y)"
   ]
  },
  {
   "cell_type": "code",
   "execution_count": 12,
   "metadata": {},
   "outputs": [
    {
     "name": "stdout",
     "output_type": "stream",
     "text": [
      "22.2 s ± 546 ms per loop (mean ± std. dev. of 7 runs, 1 loop each)\n",
      "39.6 s ± 679 ms per loop (mean ± std. dev. of 7 runs, 1 loop each)\n"
     ]
    }
   ],
   "source": [
    "%timeit fn.kneighbors(n_jobs = -1, sample_size = 1000)\n",
    "%timeit fn.kneighbors(n_jobs = -1, sample_size = None)"
   ]
  },
  {
   "cell_type": "markdown",
   "metadata": {},
   "source": [
    "# Forest space partitioning"
   ]
  },
  {
   "cell_type": "code",
   "execution_count": 13,
   "metadata": {},
   "outputs": [],
   "source": [
    "from ensemble import MixedForestRegressor"
   ]
  },
  {
   "cell_type": "code",
   "execution_count": 14,
   "metadata": {},
   "outputs": [
    {
     "data": {
      "text/plain": [
       "(array([ 0,  1,  2,  3,  4,  5,  6,  7,  8,  9, 10, 11, 12, 13, 14, 15, 16,\n",
       "        17, 18, 19, 20, 21, 22, 23, 24, 25, 26, 27, 28, 29, 30, 31, 32, 33,\n",
       "        34, 35, 36, 37, 38, 39, 40, 41, 42, 43, 44, 45, 46, 47, 48, 49, 50,\n",
       "        51, 52, 53, 54, 55, 56, 57, 58, 59, 60, 61, 62, 63, 64, 65, 66, 67,\n",
       "        68, 69, 70, 71, 72, 73, 74, 75, 76, 77, 78, 79, 80, 81, 82, 83, 84,\n",
       "        85, 86, 87, 88, 89, 90, 91, 92, 93, 94, 95, 96, 97, 98, 99]),\n",
       " array([4265, 3913, 3037, 2904, 1806, 1961, 1965, 2007, 1943, 1891, 1853,\n",
       "        1683, 1673, 1642, 1696, 1601, 1588, 1582, 1488, 1389, 1379, 1181,\n",
       "        1238, 1220, 1182, 1172, 1089, 1089, 1044, 1065, 1080, 1024, 1045,\n",
       "         962,  961,  934,  912,  919,  938,  960,  938,  927,  867,  797,\n",
       "         809,  844,  817,  796,  848,  827,  799,  786,  762,  775,  787,\n",
       "         800,  743,  786,  760,  751,  712,  735,  745,  709,  699,  672,\n",
       "         659,  667,  645,  638,  583,  637,  601,  603,  578,  593,  584,\n",
       "         548,  550,  565,  559,  500,  491,  479,  513,  501,  475,  446,\n",
       "         397,  405,  393,  397,  376,  350,  351,  333,  313,  221,  175,\n",
       "         102]))"
      ]
     },
     "execution_count": 14,
     "metadata": {},
     "output_type": "execute_result"
    }
   ],
   "source": [
    "from scipy.stats import entropy\n",
    "\n",
    "mxfc = MixedForestRegressor(\n",
    "    [ExtraTreesClassifier(10, min_samples_leaf = 1,n_jobs = -1),RandomForestClassifier(10, min_samples_leaf = 10, n_jobs = -1)],\n",
    "    [1,10],\n",
    "    embedding_method='kmeans',\n",
    "    fully_supervised = False, \n",
    "    biadjecency_weights = 'weighted',\n",
    "    #resolution = 1,\n",
    "    n_clusters = 100\n",
    "    \n",
    ").fit(X,y)\n",
    "\n",
    "\n",
    "embeddings = mxfc.transform(X).A\n",
    "clusters = np.argmax(embeddings, 1)\n",
    "\n",
    "#sns.scatterplot(X[:,0], X[:,1], hue = clusters, palette = 'tab20')\n",
    "#sns.scatterplot(X[:,1], X[:,2], hue = embeddings.max(1) <.5)\n",
    "\n",
    "np.unique(clusters, return_counts = True)"
   ]
  },
  {
   "cell_type": "code",
   "execution_count": 15,
   "metadata": {},
   "outputs": [],
   "source": [
    "#df['cluster'] = clusters\n",
    "#df['max_proba'] = embeddings.max(1)\n",
    "#px.scatter_3d(df, 'X0', 'X1', 'X2', color = 'y', symbol = 'cluster', size = 'max_proba')"
   ]
  },
  {
   "cell_type": "code",
   "execution_count": 16,
   "metadata": {},
   "outputs": [
    {
     "name": "stderr",
     "output_type": "stream",
     "text": [
      "/home/alan/.local/lib/python3.8/site-packages/seaborn/distributions.py:2619: FutureWarning:\n",
      "\n",
      "`distplot` is a deprecated function and will be removed in a future version. Please adapt your code to use either `displot` (a figure-level function with similar flexibility) or `histplot` (an axes-level function for histograms).\n",
      "\n",
      "/home/alan/.local/lib/python3.8/site-packages/seaborn/distributions.py:2619: FutureWarning:\n",
      "\n",
      "`distplot` is a deprecated function and will be removed in a future version. Please adapt your code to use either `displot` (a figure-level function with similar flexibility) or `histplot` (an axes-level function for histograms).\n",
      "\n",
      "/home/alan/.local/lib/python3.8/site-packages/seaborn/distributions.py:2619: FutureWarning:\n",
      "\n",
      "`distplot` is a deprecated function and will be removed in a future version. Please adapt your code to use either `displot` (a figure-level function with similar flexibility) or `histplot` (an axes-level function for histograms).\n",
      "\n"
     ]
    },
    {
     "data": {
      "text/plain": [
       "<AxesSubplot:ylabel='Density'>"
      ]
     },
     "execution_count": 16,
     "metadata": {},
     "output_type": "execute_result"
    },
    {
     "data": {
      "image/png": "[encoded data removed]",
      "text/plain": [
       "<Figure size 432x288 with 1 Axes>"
      ]
     },
     "metadata": {
      "needs_background": "light"
     },
     "output_type": "display_data"
    }
   ],
   "source": [
    "sns.distplot(mxfc.transform(X, alpha = .25).max(1).data)\n",
    "sns.distplot(mxfc.transform(X, alpha = .5).max(1).data)\n",
    "sns.distplot(mxfc.transform(X, alpha = 1).max(1).data)"
   ]
  },
  {
   "cell_type": "code",
   "execution_count": 17,
   "metadata": {},
   "outputs": [
    {
     "name": "stderr",
     "output_type": "stream",
     "text": [
      "/home/alan/.local/lib/python3.8/site-packages/seaborn/_decorators.py:36: FutureWarning:\n",
      "\n",
      "Pass the following variables as keyword args: x, y. From version 0.12, the only valid positional argument will be `data`, and passing other arguments without an explicit keyword will result in an error or misinterpretation.\n",
      "\n"
     ]
    },
    {
     "data": {
      "text/plain": [
       "(5.880795367909377, 11.050541242107075)"
      ]
     },
     "execution_count": 17,
     "metadata": {},
     "output_type": "execute_result"
    },
    {
     "data": {
      "image/png": "[encoded data removed]",
      "text/plain": [
       "<Figure size 432x432 with 3 Axes>"
      ]
     },
     "metadata": {
      "needs_background": "light"
     },
     "output_type": "display_data"
    }
   ],
   "source": [
    "entropies = []\n",
    "sizes = []\n",
    "proportion_class = []\n",
    "for c in np.unique(clusters):\n",
    "    msk = clusters == c\n",
    "    entropies.append(entropy(y[msk]))\n",
    "    sizes.append(msk.sum())\n",
    "    proportion_class.append(pd.Series(y[msk]).value_counts(1).max())\n",
    "\n",
    "#jnt = sns.jointplot(sizes, entropies)\n",
    "jnt = sns.jointplot(sizes, proportion_class)\n",
    "jnt.ax_joint.set_xlabel('Cluster size')\n",
    "jnt.ax_joint.set_ylabel('Cluster Max Purity')\n",
    "np.array(entropies).mean(),entropy(y)"
   ]
  },
  {
   "cell_type": "code",
   "execution_count": 18,
   "metadata": {},
   "outputs": [],
   "source": [
    "from ensemble import MixedForestEmbedder, HeterogeneousMixedForest, LeafEmbedder"
   ]
  },
  {
   "cell_type": "code",
   "execution_count": 19,
   "metadata": {},
   "outputs": [],
   "source": [
    "from ensemble import CustomLGBMClassifier, CustomLGBMRegressor"
   ]
  },
  {
   "cell_type": "code",
   "execution_count": 20,
   "metadata": {},
   "outputs": [
    {
     "name": "stdout",
     "output_type": "stream",
     "text": [
      "[LightGBM] [Warning] min_data_in_leaf is set with min_samples_leaf=1, min_child_samples=20 will be ignored. Current value: min_data_in_leaf=1\n"
     ]
    },
    {
     "data": {
      "text/plain": [
       "(array([ 0,  1,  2,  3,  4,  5,  6,  7,  8,  9, 10, 11, 12, 13, 14, 15, 16,\n",
       "        17, 18, 19, 20, 21, 22, 23, 24, 25, 26, 27, 28, 29]),\n",
       " array([12876, 10727,  9128,  8319,  5425,  7120,  1475,  6782,  4460,\n",
       "         5686,  2031,  5135,  1617,  2008,  1805,  1357,  2105,  2213,\n",
       "         1927,   371,   905,   460,  1402,   750,     2,  1182,  1385,\n",
       "            8,  1287,    52]))"
      ]
     },
     "execution_count": 20,
     "metadata": {},
     "output_type": "execute_result"
    }
   ],
   "source": [
    "bpt = LeafEmbedder(\n",
    "    CustomLGBMClassifier(n_estimators = 100, min_samples_leaf = 1),\n",
    "    embedding_method='kmeans',\n",
    "    n_clusters = 30,\n",
    "    ensemble_node_weights_attr=\"node_weights_\"\n",
    ").fit(X,y)\n",
    "\n",
    "\n",
    "embeddings = bpt.transform(X).A\n",
    "clusters = np.argmax(embeddings, 1)\n",
    "\n",
    "#sns.scatterplot(X[:,0], X[:,1], hue = clusters, palette = 'tab20')\n",
    "#sns.scatterplot(X[:,1], X[:,2], hue = embeddings.max(1) <.5)\n",
    "\n",
    "np.unique(clusters, return_counts = True)"
   ]
  },
  {
   "cell_type": "code",
   "execution_count": 21,
   "metadata": {},
   "outputs": [
    {
     "name": "stderr",
     "output_type": "stream",
     "text": [
      "/home/alan/.local/lib/python3.8/site-packages/scipy/stats/_entropy.py:77: RuntimeWarning:\n",
      "\n",
      "invalid value encountered in true_divide\n",
      "\n",
      "/home/alan/.local/lib/python3.8/site-packages/seaborn/_decorators.py:36: FutureWarning:\n",
      "\n",
      "Pass the following variables as keyword args: x, y. From version 0.12, the only valid positional argument will be `data`, and passing other arguments without an explicit keyword will result in an error or misinterpretation.\n",
      "\n"
     ]
    },
    {
     "data": {
      "text/plain": [
       "(nan, 11.050541242107075)"
      ]
     },
     "execution_count": 21,
     "metadata": {},
     "output_type": "execute_result"
    },
    {
     "data": {
      "image/png": "[encoded data removed]",
      "text/plain": [
       "<Figure size 432x432 with 3 Axes>"
      ]
     },
     "metadata": {
      "needs_background": "light"
     },
     "output_type": "display_data"
    }
   ],
   "source": [
    "entropies = []\n",
    "sizes = []\n",
    "proportion_class = []\n",
    "for c in np.unique(clusters):\n",
    "    msk = clusters == c\n",
    "    entropies.append(entropy(y[msk]))\n",
    "    sizes.append(msk.sum())\n",
    "    proportion_class.append(pd.Series(y[msk]).value_counts(1).max())\n",
    "\n",
    "#jnt = sns.jointplot(sizes, entropies)\n",
    "jnt = sns.jointplot(sizes, proportion_class)\n",
    "jnt.ax_joint.set_xlabel('Cluster size')\n",
    "jnt.ax_joint.set_ylabel('Cluster Max Purity')\n",
    "np.array(entropies).mean(),entropy(y)"
   ]
  },
  {
   "cell_type": "code",
   "execution_count": 22,
   "metadata": {},
   "outputs": [
    {
     "data": {
      "text/html": [
       "<iframe\n",
       "    scrolling=\"no\"\n",
       "    width=\"100%\"\n",
       "    height=\"545px\"\n",
       "    src=\"iframe_figures/figure_22.html\"\n",
       "    frameborder=\"0\"\n",
       "    allowfullscreen\n",
       "></iframe>\n"
      ]
     },
     "metadata": {},
     "output_type": "display_data"
    }
   ],
   "source": [
    "df['cluster'] = clusters\n",
    "df['max_proba'] = embeddings.max(1)\n",
    "px.scatter_3d(df, 'X0', 'X1', 'X2', color = 'y', symbol = 'cluster', size = 'max_proba')"
   ]
  },
  {
   "cell_type": "code",
   "execution_count": 34,
   "metadata": {},
   "outputs": [],
   "source": [
    "class ArchetypeClassifier(BaseEstimator):\n",
    "    def __init__(\n",
    "        self,\n",
    "        base_embedder,\n",
    "        final_transformer,\n",
    "        prefit_embedder = False,\n",
    "        use_membership_weights = True,\n",
    "    ):\n",
    "        \n",
    "        \"\"\"\n",
    "        An abstract estimator that applies some transformation\n",
    "        on data that has a fuzzy membership to a given cluster (or archetype)\n",
    "\n",
    "        The fit and transform/predict/... processes in each archetype are performed \n",
    "        only in the subset of data that has a positive probability of belonging to that\n",
    "        cluster. Then, the individual weight of each data point is given by the membership score of that\n",
    "        point. If user defined sample_weight is passed, the final weights during train is the product\n",
    "        of both membership scores and sample_weight\n",
    "        \"\"\"\n",
    "\n",
    "        self.base_embedder = base_embedder\n",
    "        self.final_transformer = final_transformer\n",
    "        self.prefit_embedder = prefit_embedder\n",
    "        self.use_membership_weights = use_membership_weights\n",
    "        return\n",
    "\n",
    "    def fit(self, X, y = None, sample_weight = None, **kwargs):\n",
    "        \n",
    "        if not self.prefit_embedder:\n",
    "            base_embedder = clone(self.base_embedder)\n",
    "            base_embedder.fit(X, y=y, sample_weight=sample_weight)\n",
    "        else:\n",
    "            base_embedder = clone(self.base_embedder)\n",
    "        \n",
    "        memberships = base_embedder.transform(X)\n",
    "        if (memberships.sum(axis = 1) != 1).any():\n",
    "            raise ValueError(f\"Some membership rows do not sum up to 1\")\n",
    "        \n",
    "        n_archetypes = memberships.shape[-1]\n",
    "        archetype_estimator_list = []\n",
    "        for i in range(n_archetypes):\n",
    "            estim = clone(self.final_transformer)\n",
    "            X_sample, y_sample, weights, mask = self._get_subset_and_weights(\n",
    "                X=X,\n",
    "                y=y,\n",
    "                membership=memberships[:,i],\n",
    "                sample_weight = sample_weight,\n",
    "                use_membership_weights = self.use_membership_weights\n",
    "            )\n",
    "            \n",
    "            if not weights is None:\n",
    "                estim.fit(X=X_sample, y=y_sample, sample_weight=weights)\n",
    "            else:\n",
    "                #to ensure will work with estimators that donnot accept sample_weight parameters in fit\n",
    "                estim.fit(X=X_sample, y=y_sample)\n",
    "            \n",
    "            archetype_estimator_list.append(estim)\n",
    "        \n",
    "        #save states\n",
    "        self.archetype_estimator_list_ = archetype_estimator_list\n",
    "        self.base_embedder_ = base_embedder\n",
    "        self.n_archetypes_ = n_archetypes\n",
    "        return self\n",
    "    \n",
    "    \n",
    "    def _get_subset_and_weights(self, X, y, membership, sample_weight, use_membership_weights):\n",
    "        \"\"\"\n",
    "        returns data instances and sample weights for membership > 0\n",
    "        \"\"\"\n",
    "        mask = membership > 0\n",
    "        X_sample = X[mask]\n",
    "        \n",
    "        if not y is None:\n",
    "            y_sample = y[mask]\n",
    "        else:\n",
    "            y_sample = None\n",
    "        \n",
    "\n",
    "        if sample_weight is None:\n",
    "            if use_membership_weights:\n",
    "                weights = membership[mask]\n",
    "            else:\n",
    "                weights = None\n",
    "        else:\n",
    "            if use_membership_weights:\n",
    "                weights = sample_weight[mask]*membership[mask]\n",
    "            else:\n",
    "                weights = sample_weight[mask]\n",
    "        \n",
    "        return X_sample, y_sample, weights, mask\n",
    "    \n",
    "    def _infer_matrix(self, infer_method, X, **kwargs):\n",
    "        \n",
    "        \n",
    "        memberships = self.base_embedder_.transform(X)\n",
    "        if (memberships.sum(axis = 1) != 1).any():\n",
    "            raise ValueError(f\"Some membership rows do not sum up to 1\")\n",
    "        \n",
    "        results  = []\n",
    "        for i in range(len(self.base_embedder_.classes_)):            \n",
    "            results.appends(\n",
    "                parse.lil_matrix((X.shape[0], self.n_archetypes_), dtype=np.float32))\n",
    "        \n",
    "        res = getattr(estim, infer_method)(X, **kwargs)\n",
    "        for i in range(self.n_archetypes_):\n",
    "            estim = self.archetype_estimator_list_[i]\n",
    "            X_sample, y_sample, weights, mask = self._get_subset_and_weights(\n",
    "                X=X,\n",
    "                y=None,\n",
    "                membership=memberships[:,i],\n",
    "                sample_weight = None,\n",
    "                use_membership_weights = self.use_membership_weights\n",
    "            )\n",
    "            res = getattr(estim, infer_method)(X, **kwargs)\n",
    "            \n",
    "            class_idxs = self._get_estim_classes_index(estim)\n",
    "            for j in range(len(class_idxs)):\n",
    "                #one sprse matrix per class\n",
    "                results[class_idxs[j]][mask,i] = res[:,j]\n",
    "                                        \n",
    "        return results\n",
    "\n",
    "    def _infer_reduce(self, infer_method, X, **kwargs):\n",
    "        \n",
    "        memberships = self.base_embedder_.transform(X)\n",
    "        if (memberships.sum(axis = 1) != 1).any():\n",
    "            raise ValueError(f\"Some membership rows do not sum up to 1\")\n",
    "                        \n",
    "        results  = []\n",
    "        for i in range(len(self.base_embedder_.classes_)):            \n",
    "            results.appends(\n",
    "                parse.lil_matrix((X.shape[0], self.n_archetypes_), dtype=np.float32))\n",
    "        \n",
    "        for i in range(self.n_archetypes_):\n",
    "            estim = self.archetype_estimator_list_[i]\n",
    "            X_sample, y_sample, weights, mask = self._get_subset_and_weights(\n",
    "                X=X,\n",
    "                y=None,\n",
    "                membership=memberships[:,i],\n",
    "                sample_weight = None,\n",
    "                use_membership_weights = self.use_membership_weights\n",
    "            )\n",
    "            \n",
    "            res = getattr(estim, infer_method)(X, **kwargs)\n",
    "            \n",
    "            if not weights is None:\n",
    "                res = res*weights\n",
    "            else:\n",
    "                pass\n",
    "            \n",
    "            class_idxs = self._get_estim_classes_index(estim)\n",
    "            for j in range(len(class_idxs)):\n",
    "                #one sprse matrix per class\n",
    "                results[class_idxs[j]][mask,i] = res[:,j]                    \n",
    "            \n",
    "        #reduce to weighted average of class proba in each archetype\n",
    "        results = np.hstack([r.sum(1) for r in results])\n",
    "        return results\n",
    "    \n",
    "    def _get_estim_classes_index(self, estim):        \n",
    "        indexes = np.isin(self.base_embedder_.classes_, estim.classes_).nonzero()[0]\n",
    "        return indexes\n",
    "        \n",
    "        "
   ]
  },
  {
   "cell_type": "code",
   "execution_count": 33,
   "metadata": {},
   "outputs": [
    {
     "data": {
      "text/plain": [
       "array([0, 3])"
      ]
     },
     "execution_count": 33,
     "metadata": {},
     "output_type": "execute_result"
    }
   ],
   "source": [
    "\n"
   ]
  },
  {
   "cell_type": "code",
   "execution_count": null,
   "metadata": {},
   "outputs": [],
   "source": []
  }
 ],
 "metadata": {
  "kernelspec": {
   "display_name": "heterogeneous-metric-learning",
   "language": "python",
   "name": "heterogeneous-metric-learning"
  },
  "language_info": {
   "codemirror_mode": {
    "name": "ipython",
    "version": 3
   },
   "file_extension": ".py",
   "mimetype": "text/x-python",
   "name": "python",
   "nbconvert_exporter": "python",
   "pygments_lexer": "ipython3",
   "version": "3.8.10"
  },
  "latex_envs": {
   "LaTeX_envs_menu_present": true,
   "autoclose": false,
   "autocomplete": true,
   "bibliofile": "biblio.bib",
   "cite_by": "apalike",
   "current_citInitial": 1,
   "eqLabelWithNumbers": true,
   "eqNumInitial": 1,
   "hotkeys": {
    "equation": "Ctrl-E",
    "itemize": "Ctrl-I"
   },
   "labels_anchors": false,
   "latex_user_defs": false,
   "report_style_numbering": false,
   "user_envs_cfg": false
  },
  "toc": {
   "base_numbering": 1,
   "nav_menu": {},
   "number_sections": true,
   "sideBar": true,
   "skip_h1_title": false,
   "title_cell": "Table of Contents",
   "title_sidebar": "Contents",
   "toc_cell": false,
   "toc_position": {},
   "toc_section_display": true,
   "toc_window_display": false
  }
 },
 "nbformat": 4,
 "nbformat_minor": 4
}
