{
 "cells": [
  {
   "cell_type": "code",
   "execution_count": 1,
   "metadata": {},
   "outputs": [],
   "source": [
    "import sys\n",
    "sys.path.insert(0, '..') #appends project root to path in order to import project packages since `noteboks_dev` is not on the root\n"
   ]
  },
  {
   "cell_type": "markdown",
   "metadata": {},
   "source": [
    "# Code"
   ]
  },
  {
   "cell_type": "code",
   "execution_count": 3,
   "metadata": {},
   "outputs": [],
   "source": [
    "#export\n",
    "from functools import reduce\n",
    "\n",
    "from typing import Union\n",
    "\n",
    "from scipy import sparse\n",
    "import numpy as np\n",
    "\n",
    "from sklearn.utils.validation import check_is_fitted\n",
    "from sklearn.base import BaseEstimator, TransformerMixin\n",
    "from sklearn.preprocessing import normalize, OneHotEncoder, OrdinalEncoder, KBinsDiscretizer\n",
    "from sklearn.neural_network import MLPClassifier, MLPRegressor\n",
    "from sklearn.pipeline import make_pipeline\n",
    "\n",
    "from joblib import effective_n_jobs, Parallel, delayed\n",
    "\n",
    "from sknetwork.clustering import KMeans, Louvain, PropagationClustering\n",
    "\n",
    "from heartwood.utils import hstack, RobustEncoder, sparse_dot_product"
   ]
  },
  {
   "cell_type": "code",
   "execution_count": 4,
   "metadata": {},
   "outputs": [],
   "source": [
    "from sklearn.ensemble import RandomTreesEmbedding, RandomForestClassifier, RandomForestRegressor, ExtraTreesClassifier, ExtraTreesRegressor"
   ]
  },
  {
   "cell_type": "code",
   "execution_count": 5,
   "metadata": {},
   "outputs": [],
   "source": [
    "#session of variables to testing sessions\n",
    "n_features = 7\n",
    "cardinality_per_feature = 1000\n",
    "n_classes = 5\n",
    "n_reg_dims = 2\n",
    "\n",
    "\n",
    "X = np.random.randint(0,cardinality_per_feature,(1000,n_features))\n",
    "\n",
    "y_class = np.random.randint(0,n_classes, 1000)\n",
    "y_reg = np.random.randn(1000,n_reg_dims)"
   ]
  },
  {
   "cell_type": "code",
   "execution_count": 6,
   "metadata": {},
   "outputs": [],
   "source": [
    "#export\n",
    "from sklearn.datasets import make_regression\n",
    "\n",
    "def sigmoid(x):\n",
    "    return 1/(1+np.exp(x))\n",
    "\n",
    "def make_bimodal_assymetric_regression(\n",
    "    n_samples=100000,\n",
    "    bimodal_factor_weight = 2,\n",
    "    n_features=15,\n",
    "    n_informative=6,\n",
    "    n_targets=2,\n",
    "    bias=500,\n",
    "    effective_rank=None,\n",
    "    tail_strength=10,\n",
    "    noise=150,\n",
    "    shuffle=True,\n",
    "    coef=False,\n",
    "    random_state=None\n",
    "):\n",
    "    \n",
    "    X,y = make_regression(\n",
    "        n_samples=n_samples,\n",
    "        n_features=n_features,\n",
    "        n_informative=n_informative,\n",
    "        n_targets=n_targets,\n",
    "        bias=bias,\n",
    "        effective_rank=effective_rank,\n",
    "        tail_strength=tail_strength,\n",
    "        noise=noise,\n",
    "        shuffle=shuffle,\n",
    "        coef=coef,\n",
    "        random_state=random_state\n",
    "    )\n",
    "\n",
    "\n",
    "    #make one of X[1] feature mode weightening    \n",
    "    bimodal_factors = (sigmoid(bimodal_factor_weight*X[:,-1]) > np.random.random(size = X.shape[0])).astype(int)\n",
    "    bimodal_factors[bimodal_factors == 0] = -1\n",
    "    bimodal_factors = bimodal_factors.reshape(-1,1)\n",
    "\n",
    "    y = bimodal_factors*y\n",
    "    \n",
    "    return X,y"
   ]
  },
  {
   "cell_type": "code",
   "execution_count": 7,
   "metadata": {},
   "outputs": [],
   "source": [
    "import matplotlib.pyplot as plt\n",
    "from sklearn.datasets import make_classification, make_regression, make_blobs\n",
    "import seaborn as sns\n",
    "\n",
    "%matplotlib inline\n",
    "\n",
    "X, y = make_classification(\n",
    "    n_samples = 100_000,\n",
    "    n_features = 3,\n",
    "    n_informative = 3,\n",
    "    n_redundant = 0,\n",
    "    #bias = 10,\n",
    "    #noise = 10,\n",
    "    n_classes = 3,\n",
    "    n_clusters_per_class = 2,\n",
    "    hypercube = True,\n",
    ")\n",
    "\n",
    "\n",
    "blobs, labels = make_blobs(n_samples = 10_000,cluster_std = 3, n_features = 4)\n",
    "#sns.scatterplot(*blobs.T, hue = labels)\n",
    "#plt.show()"
   ]
  },
  {
   "cell_type": "code",
   "execution_count": 8,
   "metadata": {},
   "outputs": [],
   "source": [
    "import matplotlib.pyplot as plt\n",
    "import plotly.express as px\n",
    "import pandas as pd\n",
    "\n",
    "import plotly.io as pio\n",
    "pio.renderers.default='iframe'\n",
    "\n",
    "df = pd.DataFrame(X)\n",
    "df.columns = [f'X{i}' for i in range(X.shape[-1])]\n",
    "df['y'] = y.astype(str)\n",
    "\n",
    "fig = px.scatter_3d(df, x='X0', y='X1', z='X2',\n",
    "              color='y')\n",
    "#fig.show()\n",
    "\n",
    "#plt.cls()\n",
    "#sns.scatterplot(*X.T[:2], hue = y)\n",
    "#plt.show()"
   ]
  },
  {
   "cell_type": "code",
   "execution_count": null,
   "metadata": {},
   "outputs": [],
   "source": []
  },
  {
   "cell_type": "code",
   "execution_count": 10,
   "metadata": {},
   "outputs": [],
   "source": [
    "#export\n",
    "\n"
   ]
  },
  {
   "cell_type": "markdown",
   "metadata": {},
   "source": [
    "# ForestNeighbors"
   ]
  },
  {
   "cell_type": "code",
   "execution_count": 12,
   "metadata": {},
   "outputs": [],
   "source": []
  },
  {
   "cell_type": "code",
   "execution_count": 13,
   "metadata": {},
   "outputs": [
    {
     "name": "stderr",
     "output_type": "stream",
     "text": [
      "/tmp/ipykernel_59603/2922366443.py:150: VisibleDeprecationWarning:\n",
      "\n",
      "Creating an ndarray from ragged nested sequences (which is a list-or-tuple of lists-or-tuples-or ndarrays with different lengths or shapes) is deprecated. If you meant to do this, you must specify 'dtype=object' when creating the ndarray.\n",
      "\n"
     ]
    }
   ],
   "source": [
    "clsf = RandomForestClassifier(100,max_depth = None, min_samples_leaf = 5, n_jobs = -1)\n",
    "fn = ForestNeighbors(clsf, prefit_forest_estimator = False, n_jobs = 1).fit(X,y)"
   ]
  },
  {
   "cell_type": "code",
   "execution_count": 14,
   "metadata": {},
   "outputs": [
    {
     "name": "stdout",
     "output_type": "stream",
     "text": [
      "21.6 s ± 772 ms per loop (mean ± std. dev. of 7 runs, 1 loop each)\n",
      "58.7 s ± 4.31 s per loop (mean ± std. dev. of 7 runs, 1 loop each)\n"
     ]
    }
   ],
   "source": [
    "%timeit fn.kneighbors(n_jobs = -1, sample_size = 1000)\n",
    "%timeit fn.kneighbors(n_jobs = -1, sample_size = None)"
   ]
  },
  {
   "cell_type": "markdown",
   "metadata": {},
   "source": [
    "# Forest space partitioning"
   ]
  },
  {
   "cell_type": "code",
   "execution_count": 15,
   "metadata": {},
   "outputs": [],
   "source": []
  },
  {
   "cell_type": "code",
   "execution_count": 16,
   "metadata": {},
   "outputs": [],
   "source": []
  },
  {
   "cell_type": "code",
   "execution_count": 17,
   "metadata": {},
   "outputs": [],
   "source": []
  },
  {
   "cell_type": "code",
   "execution_count": 18,
   "metadata": {},
   "outputs": [],
   "source": []
  },
  {
   "cell_type": "code",
   "execution_count": 19,
   "metadata": {},
   "outputs": [],
   "source": []
  },
  {
   "cell_type": "code",
   "execution_count": 20,
   "metadata": {},
   "outputs": [
    {
     "data": {
      "text/plain": [
       "(array([ 0,  1,  2,  3,  4,  5,  6,  7,  8,  9, 10, 11, 12, 13, 14, 15, 16,\n",
       "        17, 18, 19, 20, 21, 22, 23, 24, 25, 26, 27, 28, 29, 30, 31, 32, 33,\n",
       "        34, 35, 36, 37, 38, 39, 40, 41, 42, 43, 44, 45, 46, 47, 48, 49, 50,\n",
       "        51, 52, 53, 54, 55, 56, 57, 58, 59, 60, 61, 62, 63, 64, 65, 66, 67,\n",
       "        68, 69, 70, 71, 72, 73, 74, 75, 76, 77, 78, 79, 80, 81, 82, 83, 84,\n",
       "        85, 86, 87, 88, 89, 90, 91, 92, 93, 94, 95, 96, 97, 98, 99]),\n",
       " array([6944, 5700, 3836, 3033, 2339, 2488, 2240, 1876, 1702, 1703, 1591,\n",
       "        1593, 1369, 1521, 1521, 1428, 1412, 1338, 1308, 1261, 1303, 1220,\n",
       "        1078, 1160, 1190, 1074, 1157, 1125, 1111, 1053, 1050, 1002,  906,\n",
       "         980,  968,  966,  938,  957,  921,  866,  865,  873,  802,  837,\n",
       "         842,  845,  796,  811,  795,  813,  780,  712,  728,  704,  688,\n",
       "         750,  580,  660,  700,  686,  646,  582,  618,  616,  622,  576,\n",
       "         581,  582,  564,  537,  589,  622,  536,  507,  539,  497,  452,\n",
       "         494,  478,  458,  468,  439,  465,  446,  395,  401,  398,  379,\n",
       "         345,  357,  312,  321,  270,  275,  244,  208,  192,  163,  185,\n",
       "         146]))"
      ]
     },
     "execution_count": 20,
     "metadata": {},
     "output_type": "execute_result"
    }
   ],
   "source": [
    "from scipy.stats import entropy\n",
    "\n",
    "mxfc = MixedForestRegressor(\n",
    "    [ExtraTreesClassifier(100, min_samples_leaf = 1,n_jobs = -1),RandomForestClassifier(100, min_samples_leaf = 10, n_jobs = -1)],\n",
    "    [1,10],\n",
    "    embedding_method='kmeans',\n",
    "    fully_supervised = False, \n",
    "    biadjecency_weights = 'weighted',\n",
    "    #resolution = 1,\n",
    "    n_clusters = 100\n",
    "    \n",
    ").fit(X,y)\n",
    "\n",
    "\n",
    "embeddings = mxfc.transform(X).A\n",
    "clusters = np.argmax(embeddings, 1)\n",
    "\n",
    "#sns.scatterplot(X[:,0], X[:,1], hue = clusters, palette = 'tab20')\n",
    "#sns.scatterplot(X[:,1], X[:,2], hue = embeddings.max(1) <.5)\n",
    "\n",
    "np.unique(clusters, return_counts = True)"
   ]
  },
  {
   "cell_type": "code",
   "execution_count": 21,
   "metadata": {},
   "outputs": [],
   "source": [
    "#df['cluster'] = clusters\n",
    "#df['max_proba'] = embeddings.max(1)\n",
    "#px.scatter_3d(df, 'X0', 'X1', 'X2', color = 'y', symbol = 'cluster', size = 'max_proba')"
   ]
  },
  {
   "cell_type": "code",
   "execution_count": 22,
   "metadata": {},
   "outputs": [
    {
     "name": "stderr",
     "output_type": "stream",
     "text": [
      "/home/alan/.local/lib/python3.8/site-packages/seaborn/distributions.py:2619: FutureWarning:\n",
      "\n",
      "`distplot` is a deprecated function and will be removed in a future version. Please adapt your code to use either `displot` (a figure-level function with similar flexibility) or `histplot` (an axes-level function for histograms).\n",
      "\n",
      "/home/alan/.local/lib/python3.8/site-packages/seaborn/distributions.py:2619: FutureWarning:\n",
      "\n",
      "`distplot` is a deprecated function and will be removed in a future version. Please adapt your code to use either `displot` (a figure-level function with similar flexibility) or `histplot` (an axes-level function for histograms).\n",
      "\n",
      "/home/alan/.local/lib/python3.8/site-packages/seaborn/distributions.py:2619: FutureWarning:\n",
      "\n",
      "`distplot` is a deprecated function and will be removed in a future version. Please adapt your code to use either `displot` (a figure-level function with similar flexibility) or `histplot` (an axes-level function for histograms).\n",
      "\n"
     ]
    },
    {
     "data": {
      "text/plain": [
       "<AxesSubplot:ylabel='Density'>"
      ]
     },
     "execution_count": 22,
     "metadata": {},
     "output_type": "execute_result"
    },
    {
     "data": {
      "image/png": "[encoded data removed]",
      "text/plain": [
       "<Figure size 432x288 with 1 Axes>"
      ]
     },
     "metadata": {
      "needs_background": "light"
     },
     "output_type": "display_data"
    }
   ],
   "source": [
    "sns.distplot(mxfc.transform(X, alpha = .25).max(1).data)\n",
    "sns.distplot(mxfc.transform(X, alpha = .5).max(1).data)\n",
    "sns.distplot(mxfc.transform(X, alpha = 1).max(1).data)"
   ]
  },
  {
   "cell_type": "code",
   "execution_count": 23,
   "metadata": {},
   "outputs": [
    {
     "name": "stderr",
     "output_type": "stream",
     "text": [
      "/home/alan/.local/lib/python3.8/site-packages/seaborn/_decorators.py:36: FutureWarning:\n",
      "\n",
      "Pass the following variables as keyword args: x, y. From version 0.12, the only valid positional argument will be `data`, and passing other arguments without an explicit keyword will result in an error or misinterpretation.\n",
      "\n"
     ]
    },
    {
     "data": {
      "text/plain": [
       "(5.683916652614042, 11.051178041175978)"
      ]
     },
     "execution_count": 23,
     "metadata": {},
     "output_type": "execute_result"
    },
    {
     "data": {
      "image/png": "[encoded data removed]",
      "text/plain": [
       "<Figure size 432x432 with 3 Axes>"
      ]
     },
     "metadata": {
      "needs_background": "light"
     },
     "output_type": "display_data"
    }
   ],
   "source": [
    "entropies = []\n",
    "sizes = []\n",
    "proportion_class = []\n",
    "for c in np.unique(clusters):\n",
    "    msk = clusters == c\n",
    "    entropies.append(entropy(y[msk]))\n",
    "    sizes.append(msk.sum())\n",
    "    proportion_class.append(pd.Series(y[msk]).value_counts(1).max())\n",
    "\n",
    "#jnt = sns.jointplot(sizes, entropies)\n",
    "jnt = sns.jointplot(sizes, proportion_class)\n",
    "jnt.ax_joint.set_xlabel('Cluster size')\n",
    "jnt.ax_joint.set_ylabel('Cluster Max Purity')\n",
    "np.array(entropies).mean(),entropy(y)"
   ]
  },
  {
   "cell_type": "code",
   "execution_count": null,
   "metadata": {},
   "outputs": [],
   "source": [
    "bpt = ForestBipartiteGraphTransformer(\n",
    "    RandomForestClassifier(400, min_samples_leaf = 1),\n",
    "    embedding_method='kmeans',\n",
    "    n_clusters = 30,\n",
    ").fit(X,y)\n",
    "\n",
    "\n",
    "embeddings = bpt.transform(X).A\n",
    "clusters = np.argmax(embeddings, 1)\n",
    "\n",
    "#sns.scatterplot(X[:,0], X[:,1], hue = clusters, palette = 'tab20')\n",
    "#sns.scatterplot(X[:,1], X[:,2], hue = embeddings.max(1) <.5)\n",
    "\n",
    "np.unique(clusters, return_counts = True)"
   ]
  },
  {
   "cell_type": "code",
   "execution_count": null,
   "metadata": {},
   "outputs": [],
   "source": [
    "entropies = []\n",
    "sizes = []\n",
    "proportion_class = []\n",
    "for c in np.unique(clusters):\n",
    "    msk = clusters == c\n",
    "    entropies.append(entropy(y[msk]))\n",
    "    sizes.append(msk.sum())\n",
    "    proportion_class.append(pd.Series(y[msk]).value_counts(1).max())\n",
    "\n",
    "#jnt = sns.jointplot(sizes, entropies)\n",
    "jnt = sns.jointplot(sizes, proportion_class)\n",
    "jnt.ax_joint.set_xlabel('Cluster size')\n",
    "jnt.ax_joint.set_ylabel('Cluster Max Purity')\n",
    "np.array(entropies).mean(),entropy(y)"
   ]
  },
  {
   "cell_type": "code",
   "execution_count": null,
   "metadata": {},
   "outputs": [],
   "source": [
    "df['cluster'] = clusters\n",
    "df['max_proba'] = embeddings.max(1)\n",
    "px.scatter_3d(df, 'X0', 'X1', 'X2', color = 'y', symbol = 'cluster', size = 'max_proba')"
   ]
  },
  {
   "cell_type": "code",
   "execution_count": null,
   "metadata": {},
   "outputs": [],
   "source": []
  }
 ],
 "metadata": {
  "kernelspec": {
   "display_name": "heterogeneous-metric-learning",
   "language": "python",
   "name": "heterogeneous-metric-learning"
  },
  "language_info": {
   "codemirror_mode": {
    "name": "ipython",
    "version": 3
   },
   "file_extension": ".py",
   "mimetype": "text/x-python",
   "name": "python",
   "nbconvert_exporter": "python",
   "pygments_lexer": "ipython3",
   "version": "3.8.10"
  },
  "latex_envs": {
   "LaTeX_envs_menu_present": true,
   "autoclose": false,
   "autocomplete": true,
   "bibliofile": "biblio.bib",
   "cite_by": "apalike",
   "current_citInitial": 1,
   "eqLabelWithNumbers": true,
   "eqNumInitial": 1,
   "hotkeys": {
    "equation": "Ctrl-E",
    "itemize": "Ctrl-I"
   },
   "labels_anchors": false,
   "latex_user_defs": false,
   "report_style_numbering": false,
   "user_envs_cfg": false
  },
  "toc": {
   "base_numbering": 1,
   "nav_menu": {},
   "number_sections": true,
   "sideBar": true,
   "skip_h1_title": false,
   "title_cell": "Table of Contents",
   "title_sidebar": "Contents",
   "toc_cell": false,
   "toc_position": {},
   "toc_section_display": true,
   "toc_window_display": false
  }
 },
 "nbformat": 4,
 "nbformat_minor": 4
}
